{
 "cells": [
  {
   "cell_type": "markdown",
   "metadata": {},
   "source": [
    "<table style=\"float:left; border:none\">\n",
    "   <tr style=\"border:none; background-color: #ffffff\">\n",
    "       <td style=\"border:none\">\n",
    "           <a href=\"http://bokeh.pydata.org/\">     \n",
    "           <img \n",
    "               src=\"assets/bokeh-transparent.png\" \n",
    "               style=\"width:50px\"\n",
    "           >\n",
    "           </a>    \n",
    "       </td>\n",
    "       <td style=\"border:none\">\n",
    "           <h1>Bokeh 教程</h1>\n",
    "       </td>\n",
    "   </tr>\n",
    "</table>\n",
    "<div style=\"float:right;\"><h2>A4. 其它资源</h2></div>"
   ]
  },
  {
   "cell_type": "markdown",
   "metadata": {},
   "source": [
    "# 其它资源\n",
    "\n",
    "还有很多东西我们未及详谈。一般来说，要了解有关Bokeh的更多信息，以下资源将有所帮助：\n",
    "\n"
   ]
  },
  {
   "cell_type": "markdown",
   "metadata": {},
   "source": [
    "## 文档\n",
    "\n",
    "\n",
    "##### 主页 - https://bokeh.pydata.org/en/latest \n",
    "\n",
    "主要的文档首页，链接到许多其他资源\n",
    "\n",
    "---\n",
    "\n",
    "##### 用户指南 - https://bokeh.pydata.org/en/latest/docs/user_guide.html\n",
    "\n",
    "用户指南包含许多自顶而下的章节，例如“用基本标记符绘图”，“设置绘图工具”或“添加交互”。每个用户的指南部分通常都有示例代码和相应的活动图表，演示如何完成各种任务。\n",
    "\n",
    "---\n",
    "\n",
    "##### 画廊 - https://bokeh.pydata.org/en/latest/docs/gallery.html\n",
    "\n",
    "学习最好的方法之一是找到一个与您需求相似的现有例子，并研究它，然后将其作为一个起点。从一个已知的工作示例开始，进行少量的增量的更改并观察结果，通常可以节省时间和精力。Bokeh文档有一个大的缩略图库，链接到带有相应代码的图和应用。\n",
    "\n",
    "\n",
    "---\n",
    "\n",
    "##### 参考手册 - https://bokeh.pydata.org/en/latest/docs/reference.html\n",
    "\n",
    "如果您已经熟悉Bokeh但对正在使用的对象具体细节有疑问，那么参考手册是查找信息的好资源。参考手册是从项目源代码自动生成的，是所有Bokeh模型及其属性的完整资源。\n",
    "\n",
    "---\n",
    "\n",
    "##### 搜索页 - https://bokeh.pydata.org/en/latest/search.html\n",
    "\n",
    "如果您想搜索Bokeh文档，网站上的搜索页面是最好的地方。常规网络搜索有时可能会返回旧版本或过期信息的结果。该站点搜索始终返回最新版本的信息，并在另一选项卡中返回其它旧版本的结果。\n",
    "\n",
    "---\n",
    "\n",
    "##### 问题跟踪 - https://github.com/bokeh/bokeh/issues\n",
    "\n",
    "GitHub问题跟踪器是提交 ***bug报告*** 和 ***功能需求*** 的地方。它不是提一般的技术支持问题的地方（请参阅下面的 *一般社区支持* 链接）。\n",
    "\n"
   ]
  },
  {
   "cell_type": "markdown",
   "metadata": {
    "collapsed": true
   },
   "source": [
    "## 示例和脚本\n",
    "\n",
    "除了所有画廊的示例之外，Bokeh还有许多其他脚本和应用，可以用于学习和模拟。\n",
    "\n",
    "##### 示例目录 - https://github.com/bokeh/bokeh/tree/master/examples/\n",
    "\n",
    "`examples`目录有许多专用于不同类型主题的子文件夹。亮点如下：\n",
    "\n",
    "* `app` - Bokeh apps 示例, 用命令 \"`bokeh serve`\" 运行\n",
    "* `howto` - 围绕布局或notebook通信等特定主题的例子\n",
    "* `plotting` - 一大堆使用 `bokeh.plotting` 接口的示例\n",
    "* `webgl` - 一些展示 WebGL 使用的示例\n",
    "\n",
    "---\n",
    "\n",
    "##### 示例压缩包\n",
    "\n",
    "为了更容易获得，可以在如下地址获取一个仅包含示例的zip文件\n",
    "\n",
    "`https://cdn.pydata.org/bokeh/examples/examples-<x.y.z>.zip`\n",
    "\n",
    "例如，可以在以下位置找到“0.12.7”版本的示例zip文件：\n",
    "\n",
    "https://cdn.pydata.org/bokeh/examples/examples-0.12.7.zip\n",
    "\n",
    "\n"
   ]
  },
  {
   "cell_type": "markdown",
   "metadata": {},
   "source": [
    "## 社区支持\n",
    "\n",
    "Bokeh拥有一个不断增长的庞大社区。一般支持问题（要么提问，要么回答！）的最佳地方是下面列出的社区支持资源之一。\n",
    "\n",
    "* 邮件列表 - https://groups.google.com/a/anaconda.com/forum/#!forum/bokeh\n",
    "* Gitter 聊天通道 - https://gitter.im/bokeh/bokeh\n",
    "* StackOverflow (使用 `#bokeh` 标签): http://stackoverflow.com/questions/tagged/bokeh\n",
    "\n"
   ]
  },
  {
   "cell_type": "markdown",
   "metadata": {},
   "source": [
    "## 贡献者资源\n",
    "\n",
    "Bokeh拥有一个小型但不断发展的开发者社区。我们一直在寻找新的贡献者。以下是给参与Bokeh工作的人员的一些资源。\n",
    "\n",
    "##### 源代码 - https://github.com/bokeh/bokeh\n",
    "\n",
    "去这里克隆GitHub 代码库（为了贡献或获取示例），或者提交问题\n",
    "\n",
    "---\n",
    "\n",
    "##### 问题追踪 - https://github.com/bokeh/bokeh/issues\n",
    "\n",
    "GitHub问题跟踪器是提交 ***bug报告*** 和 ***功能需求*** 的地方。一般支持问题，请参阅 *一般社区支持*。\n",
    "\n",
    "---\n",
    "\n",
    "#### 开发者指南 - https://bokeh.pydata.org/en/latest/docs/dev_guide.html\n",
    "\n",
    "如果您有兴趣成为Bokeh的贡献者，那么开发人员指南就是开始的地方。它包含有关获取开发环境、库架构、编写和运行测试的信息。\n",
    "\n",
    "---\n",
    "\n",
    "#### 开发聊天通道 - https://gitter.im/bokeh/bokeh-dev\n",
    "\n",
    "如果您有任何关于开发Bokeh的问题，请来此寻求帮助。\n"
   ]
  }
 ],
 "metadata": {
  "kernelspec": {
   "display_name": "Python 3",
   "language": "python",
   "name": "python3"
  },
  "language_info": {
   "codemirror_mode": {
    "name": "ipython",
    "version": 3
   },
   "file_extension": ".py",
   "mimetype": "text/x-python",
   "name": "python",
   "nbconvert_exporter": "python",
   "pygments_lexer": "ipython3",
   "version": "3.5.5"
  }
 },
 "nbformat": 4,
 "nbformat_minor": 1
}
