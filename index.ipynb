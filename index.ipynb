{
 "cells": [
  {
   "cell_type": "markdown",
   "metadata": {},
   "source": [
    "<div>\n",
    "<a href=\"http://bokeh.pydata.org/\"><img src=\"images/bokeh-header.png\"></a>\n",
    "</div>"
   ]
  },
  {
   "cell_type": "markdown",
   "metadata": {},
   "source": [
    "欢迎来到 [Bokeh](http://bokeh.pydata.org/en/latest) in the Jupyter Notebook！\n",
    "\n",
    "Bokeh 是一个Python交互式可视化库，用于在现代Web浏览器上进行展示。它的目标是以D3.js风格提供优雅简洁的图形展示，并与大数据或流数据进行高效交互。Bokeh可以帮助快速轻松地创建交互图，仪表板，和数据应用。"
   ]
  },
  {
   "cell_type": "markdown",
   "metadata": {},
   "source": [
    "## 快速开始\n",
    "\n",
    "通过 [Boken 5分钟简介](quickstart/quickstart.ipynb) 开始"
   ]
  },
  {
   "cell_type": "markdown",
   "metadata": {},
   "source": [
    "## 教程\n",
    "\n",
    "通过 [介绍和设置](tutorial/00%20-%20Introduction%20and%20Setup.ipynb) 开始，可以跳转到任何感兴趣的议题。"
   ]
  },
  {
   "cell_type": "markdown",
   "metadata": {},
   "source": [
    "## 更多信息\n",
    "\n",
    "全部文档，移步 http://bokeh.pydata.org/en/latest\n",
    "\n",
    "Bokeh 源代码，访问GitHub：https://github.com/bokeh/bokeh \n",
    "\n",
    "记得关注我们的推特 Twitter [@BokehPlots](http://twitter.com/BokehPlots) 和 [Youtube](https://www.youtube.com/channel/UCK0rSk29mmg4UT4bIOvPYhw)!"
   ]
  },
  {
   "cell_type": "markdown",
   "metadata": {},
   "source": [
    "## 联系方式\n",
    "\n",
    "有问题，请加入 [Bokeh 邮件列表](https://groups.google.com/a/anaconda.com/forum/#!forum/bokeh) 或者访问 [Gitter 聊天室](https://gitter.im/bokeh/bokeh)\n",
    "\n",
    "你可以在 StackOverflow 使用 [``#bokeh``](http://stackoverflow.com/questions/tagged/bokeh) tag 提问题。\n",
    "\n",
    "商业开发、定制可视化开发、内嵌Bokeh应用，请联系 [sales@anaconda.com](mailto:sales@anaconda.com)\n",
    "\n",
    "提供赞助支持Bokeh开发，请联系 [info@pydata.org](mailto:info@pydata.org)"
   ]
  },
  {
   "cell_type": "markdown",
   "metadata": {},
   "source": [
    "## 感谢\n",
    "\n",
    "Bokeh 由 [Anaconda, Inc.](https://anaconda.com) 和社区贡献者提供经济支持。万分感谢 [所有的 Bokeh Github 贡献者](https://github.com/bokeh/bokeh/graphs/contributors)。"
   ]
  },
  {
   "cell_type": "markdown",
   "metadata": {},
   "source": [
    "<script>\n",
    "  (function(i,s,o,g,r,a,m){i['GoogleAnalyticsObject']=r;i[r]=i[r]||function(){\n",
    "  (i[r].q=i[r].q||[]).push(arguments)},i[r].l=1*new Date();a=s.createElement(o),\n",
    "  m=s.getElementsByTagName(o)[0];a.async=1;a.src=g;m.parentNode.insertBefore(a,m)\n",
    "  })(window,document,'script','//www.google-analytics.com/analytics.js','ga');\n",
    "\n",
    "  ga('create', 'UA-27761864-9', 'auto');\n",
    "  ga('send', 'pageview');\n",
    "</script>"
   ]
  }
 ],
 "metadata": {
  "kernelspec": {
   "display_name": "Python 3",
   "language": "python",
   "name": "python3"
  },
  "language_info": {
   "codemirror_mode": {
    "name": "ipython",
    "version": 3
   },
   "file_extension": ".py",
   "mimetype": "text/x-python",
   "name": "python",
   "nbconvert_exporter": "python",
   "pygments_lexer": "ipython3",
   "version": "3.6.4"
  }
 },
 "nbformat": 4,
 "nbformat_minor": 1
}
